{
 "cells": [
  {
   "cell_type": "markdown",
   "id": "d1e5a1ee",
   "metadata": {},
   "source": [
    "<h1>Tackling an open problem</h1>\n",
    "\n",
    "For this homework the idea is to hone our skills on exploring and plotting a dataset. You can either work with the Pokemon dataset that was given or download your own. If you opt to download your own I recommend you use one of the datasets available on kaggle,\n",
    "\n",
    "https://www.kaggle.com/datasets\n",
    "\n",
    "As they tend to be found in a clean format and are generally free to use.\n",
    "\n",
    "Largely, the main objective is learning how to search the internet for new implementations you want to use on your code helping you develop your self-confidence.\n",
    "\n",
    "There's no right or wrong, pick a dataset you enjoy and try to have some fun.\n",
    "If you need, use the notebook from the previous session as a guideline.\n"
   ]
  },
  {
   "cell_type": "code",
   "execution_count": 140,
   "id": "383c1464",
   "metadata": {},
   "outputs": [],
   "source": [
    "import pandas as pd\n",
    "import matplotlib.pyplot as plt\n",
    "import numpy as np"
   ]
  },
  {
   "cell_type": "code",
   "execution_count": 142,
   "id": "f33630df-42de-4c07-ab2a-ef5692ef6033",
   "metadata": {},
   "outputs": [],
   "source": [
    "# Read the dataset file in panda (This dataset contains 1.3 million job listings scraped from LinkedIn in the year 2024)\n",
    "linked_in_jobs_df = pd.read_csv('Datasets/linkedin_job_postings.csv', sep=',')"
   ]
  },
  {
   "cell_type": "code",
   "execution_count": 143,
   "id": "b4c88311-7a1e-4c15-ac12-a6dd88ea25fb",
   "metadata": {
    "scrolled": true
   },
   "outputs": [
    {
     "name": "stdout",
     "output_type": "stream",
     "text": [
      "                                                  job_link  \\\n",
      "0        https://www.linkedin.com/jobs/view/account-exe...   \n",
      "1        https://www.linkedin.com/jobs/view/registered-...   \n",
      "2        https://www.linkedin.com/jobs/view/restaurant-...   \n",
      "3        https://www.linkedin.com/jobs/view/independent...   \n",
      "4        https://www.linkedin.com/jobs/view/group-unit-...   \n",
      "...                                                    ...   \n",
      "1348449  https://www.linkedin.com/jobs/view/registered-...   \n",
      "1348450  https://www.linkedin.com/jobs/view/constructio...   \n",
      "1348451  https://www.linkedin.com/jobs/view/executive-c...   \n",
      "1348452  https://www.linkedin.com/jobs/view/rn-register...   \n",
      "1348453  https://www.linkedin.com/jobs/view/on-demand-g...   \n",
      "\n",
      "                   last_processed_time got_summary got_ner is_being_worked  \\\n",
      "0         2024-01-21 07:12:29.00256+00           t       t               f   \n",
      "1         2024-01-21 07:39:58.88137+00           t       t               f   \n",
      "2        2024-01-21 07:40:00.251126+00           t       t               f   \n",
      "3        2024-01-21 07:40:00.308133+00           t       t               f   \n",
      "4        2024-01-19 09:45:09.215838+00           f       f               f   \n",
      "...                                ...         ...     ...             ...   \n",
      "1348449  2024-01-20 15:21:07.786118+00           t       t               f   \n",
      "1348450  2024-01-20 15:21:10.885264+00           t       t               f   \n",
      "1348451  2024-01-21 07:40:00.304641+00           t       t               f   \n",
      "1348452  2024-01-21 00:38:39.816821+00           t       t               f   \n",
      "1348453  2024-01-21 00:38:44.231492+00           t       t               f   \n",
      "\n",
      "                                                 job_title  \\\n",
      "0        Account Executive - Dispensing (NorCal/Norther...   \n",
      "1                       Registered Nurse - RN Care Manager   \n",
      "2                     RESTAURANT SUPERVISOR - THE FORKLIFT   \n",
      "3                            Independent Real Estate Agent   \n",
      "4        Group/Unit Supervisor (Systems Support Manager...   \n",
      "...                                                    ...   \n",
      "1348449  Registered Nurse (RN) #CP-RN-7998660 - 2411627...   \n",
      "1348450                        Construction Superintendent   \n",
      "1348451                 Executive Chef, Operations Support   \n",
      "1348452  RN- Registered Nurse, Analyst - - 23934913EXPP...   \n",
      "1348453  On-Demand: Guest Advocate (Cashier), General M...   \n",
      "\n",
      "                              company          job_location  first_seen  \\\n",
      "0                                  BD         San Diego, CA  2024-01-15   \n",
      "1                   Trinity Health MI     Norton Shores, MI  2024-01-14   \n",
      "2             Wasatch Adaptive Sports             Sandy, UT  2024-01-14   \n",
      "3          Howard Hanna | Rand Realty  Englewood Cliffs, NJ  2024-01-16   \n",
      "4        IRS, Office of Chief Counsel          Chamblee, GA  2024-01-17   \n",
      "...                               ...                   ...         ...   \n",
      "1348449             TravelNurseSource        Providence, RI  2024-01-14   \n",
      "1348450                         Jobot        New Iberia, LA  2024-01-15   \n",
      "1348451           NEXDINE Hospitality         Riverhead, NY  2024-01-14   \n",
      "1348452             TravelNurseSource            Aurora, CO  2024-01-16   \n",
      "1348453                        Target       Culver City, CA  2024-01-12   \n",
      "\n",
      "         search_city search_country                        search_position  \\\n",
      "0           Coronado  United States                            Color Maker   \n",
      "1        Grand Haven  United States               Director Nursing Service   \n",
      "2             Tooele  United States                               Stand-In   \n",
      "3          Pinehurst  United States                      Real-Estate Clerk   \n",
      "4            Gadsden  United States   Supervisor Travel-Information Center   \n",
      "...              ...            ...                                    ...   \n",
      "1348449   Fall River  United States                       Nurse Supervisor   \n",
      "1348450    Lafayette  United States  Assistant Construction Superintendent   \n",
      "1348451     Eastport  United States                                   Chef   \n",
      "1348452     Colorado  United States                   Occupational Analyst   \n",
      "1348453       Malibu  United States                             Cashier Ii   \n",
      "\n",
      "          job_level job_type  \n",
      "0        Mid senior   Onsite  \n",
      "1        Mid senior   Onsite  \n",
      "2        Mid senior   Onsite  \n",
      "3        Mid senior   Onsite  \n",
      "4        Mid senior   Onsite  \n",
      "...             ...      ...  \n",
      "1348449  Mid senior   Onsite  \n",
      "1348450  Mid senior   Onsite  \n",
      "1348451  Mid senior   Onsite  \n",
      "1348452  Mid senior   Onsite  \n",
      "1348453  Mid senior   Onsite  \n",
      "\n",
      "[1348454 rows x 14 columns]\n"
     ]
    }
   ],
   "source": [
    "# Some beginning and ending rows of the columns\n",
    "print(linked_in_jobs_df)"
   ]
  },
  {
   "cell_type": "code",
   "execution_count": 144,
   "id": "535d3d12-2306-4b90-b171-a858f8fec4cf",
   "metadata": {},
   "outputs": [
    {
     "data": {
      "text/plain": [
       "Index(['job_link', 'last_processed_time', 'got_summary', 'got_ner',\n",
       "       'is_being_worked', 'job_title', 'company', 'job_location', 'first_seen',\n",
       "       'search_city', 'search_country', 'search_position', 'job_level',\n",
       "       'job_type'],\n",
       "      dtype='object')"
      ]
     },
     "execution_count": 144,
     "metadata": {},
     "output_type": "execute_result"
    }
   ],
   "source": [
    "#Column headings\n",
    "linked_in_jobs_df.keys()"
   ]
  },
  {
   "cell_type": "code",
   "execution_count": 148,
   "id": "d5ab1be7-5196-4971-af7a-6bbdd57641de",
   "metadata": {},
   "outputs": [
    {
     "data": {
      "text/plain": [
       "search_country\n",
       "United States     1149342\n",
       "United Kingdom     113421\n",
       "Canada              55972\n",
       "Australia           29719\n",
       "Name: count, dtype: int64"
      ]
     },
     "execution_count": 148,
     "metadata": {},
     "output_type": "execute_result"
    }
   ],
   "source": [
    "#Country with jobs count\n",
    "linked_in_jobs_df['search_country'].value_counts()"
   ]
  },
  {
   "cell_type": "code",
   "execution_count": 150,
   "id": "70f856b9-523f-4e68-b630-5fc15e488293",
   "metadata": {},
   "outputs": [
    {
     "data": {
      "text/plain": [
       "job_type\n",
       "Onsite    1337633\n",
       "Hybrid       6562\n",
       "Remote       4259\n",
       "Name: count, dtype: int64"
      ]
     },
     "execution_count": 150,
     "metadata": {},
     "output_type": "execute_result"
    }
   ],
   "source": [
    "#Job type count mostly onsite\n",
    "linked_in_jobs_df['job_type'].value_counts()"
   ]
  },
  {
   "cell_type": "code",
   "execution_count": 152,
   "id": "78aa684a-2a0f-4ff9-aa99-e153f84d826a",
   "metadata": {},
   "outputs": [
    {
     "data": {
      "text/plain": [
       "search_position\n",
       "Account Executive                   19468\n",
       "Christian Science Nurse             16048\n",
       "Consultant Education                12138\n",
       "Change Person                       12025\n",
       "Circulation-Sales Representative    10978\n",
       "                                    ...  \n",
       "Filter Operator                         1\n",
       "Muffler Installer                       1\n",
       "Cleaner Wall                            1\n",
       "Dry-End Operator                        1\n",
       "Playroom Attendant                      1\n",
       "Name: count, Length: 1993, dtype: int64"
      ]
     },
     "execution_count": 152,
     "metadata": {},
     "output_type": "execute_result"
    }
   ],
   "source": [
    "#top postions\n",
    "linked_in_jobs_df['search_position'].value_counts()"
   ]
  },
  {
   "cell_type": "code",
   "execution_count": 154,
   "id": "89034608-f750-4726-88ad-7404c4bf6a35",
   "metadata": {},
   "outputs": [],
   "source": [
    "#Job positions in united kingdom\n",
    "GB_JOBS = linked_in_jobs_df['search_country'] = 'United Kingdom' + linked_in_jobs_df['search_position']"
   ]
  },
  {
   "cell_type": "code",
   "execution_count": 156,
   "id": "09a6c76f-a4ee-4006-9b1f-880bf159f50e",
   "metadata": {},
   "outputs": [
    {
     "data": {
      "text/plain": [
       "0                                  United KingdomColor Maker\n",
       "1                     United KingdomDirector Nursing Service\n",
       "2                                     United KingdomStand-In\n",
       "3                            United KingdomReal-Estate Clerk\n",
       "4          United KingdomSupervisor Travel-Information Ce...\n",
       "                                 ...                        \n",
       "1348449                       United KingdomNurse Supervisor\n",
       "1348450    United KingdomAssistant Construction Superinte...\n",
       "1348451                                   United KingdomChef\n",
       "1348452                   United KingdomOccupational Analyst\n",
       "1348453                             United KingdomCashier Ii\n",
       "Name: search_position, Length: 1348454, dtype: object"
      ]
     },
     "execution_count": 156,
     "metadata": {},
     "output_type": "execute_result"
    }
   ],
   "source": [
    "GB_JOBS"
   ]
  },
  {
   "cell_type": "code",
   "execution_count": 158,
   "id": "27bfb9e8-c26d-43ce-a752-e70bbdafcad8",
   "metadata": {},
   "outputs": [
    {
     "data": {
      "text/plain": [
       "search_position\n",
       "United KingdomAccount Executive                   19468\n",
       "United KingdomChristian Science Nurse             16048\n",
       "United KingdomConsultant Education                12138\n",
       "United KingdomChange Person                       12025\n",
       "United KingdomCirculation-Sales Representative    10978\n",
       "                                                  ...  \n",
       "United KingdomFilter Operator                         1\n",
       "United KingdomMuffler Installer                       1\n",
       "United KingdomCleaner Wall                            1\n",
       "United KingdomDry-End Operator                        1\n",
       "United KingdomPlayroom Attendant                      1\n",
       "Name: count, Length: 1993, dtype: int64"
      ]
     },
     "execution_count": 158,
     "metadata": {},
     "output_type": "execute_result"
    }
   ],
   "source": [
    "#count of the same job in UK\n",
    "GB_JOBS.value_counts()"
   ]
  },
  {
   "cell_type": "code",
   "execution_count": 160,
   "id": "4c4f276f-ca1d-4dfb-aca2-7c9f34ef788f",
   "metadata": {},
   "outputs": [
    {
     "data": {
      "text/plain": [
       "count                             1348454\n",
       "unique                               1993\n",
       "top       United KingdomAccount Executive\n",
       "freq                                19468\n",
       "Name: search_position, dtype: object"
      ]
     },
     "execution_count": 160,
     "metadata": {},
     "output_type": "execute_result"
    }
   ],
   "source": [
    "#Account executive is coming out on top\n",
    "GB_JOBS.describe()"
   ]
  },
  {
   "cell_type": "code",
   "execution_count": 162,
   "id": "8ddf3dfb-aa9e-45f0-8706-45c4bd859607",
   "metadata": {},
   "outputs": [
    {
     "data": {
      "text/plain": [
       "0                            United KingdomColor Maker\n",
       "1               United KingdomDirector Nursing Service\n",
       "2                               United KingdomStand-In\n",
       "3                      United KingdomReal-Estate Clerk\n",
       "4    United KingdomSupervisor Travel-Information Ce...\n",
       "Name: search_position, dtype: object"
      ]
     },
     "execution_count": 162,
     "metadata": {},
     "output_type": "execute_result"
    }
   ],
   "source": [
    "# Good question why is this ?\n",
    "GB_JOBS.head()"
   ]
  },
  {
   "cell_type": "code",
   "execution_count": 164,
   "id": "b83054be-9cc8-462e-8ec5-136f3d79dbe1",
   "metadata": {},
   "outputs": [],
   "source": [
    "#variable for UK only\n",
    "united_kingdom = linked_in_jobs_df[linked_in_jobs_df['search_country'] == 'United Kingdom']"
   ]
  },
  {
   "cell_type": "code",
   "execution_count": 166,
   "id": "da1d1bac-e76d-4bf5-9b17-c11867f0c018",
   "metadata": {},
   "outputs": [
    {
     "name": "stdout",
     "output_type": "stream",
     "text": [
      "                                            search_country  \\\n",
      "0                                United KingdomColor Maker   \n",
      "1                   United KingdomDirector Nursing Service   \n",
      "2                                   United KingdomStand-In   \n",
      "3                          United KingdomReal-Estate Clerk   \n",
      "4        United KingdomSupervisor Travel-Information Ce...   \n",
      "...                                                    ...   \n",
      "1348449                     United KingdomNurse Supervisor   \n",
      "1348450  United KingdomAssistant Construction Superinte...   \n",
      "1348451                                 United KingdomChef   \n",
      "1348452                 United KingdomOccupational Analyst   \n",
      "1348453                           United KingdomCashier Ii   \n",
      "\n",
      "                               search_position  \n",
      "0                                  Color Maker  \n",
      "1                     Director Nursing Service  \n",
      "2                                     Stand-In  \n",
      "3                            Real-Estate Clerk  \n",
      "4         Supervisor Travel-Information Center  \n",
      "...                                        ...  \n",
      "1348449                       Nurse Supervisor  \n",
      "1348450  Assistant Construction Superintendent  \n",
      "1348451                                   Chef  \n",
      "1348452                   Occupational Analyst  \n",
      "1348453                             Cashier Ii  \n",
      "\n",
      "[1348454 rows x 2 columns]\n"
     ]
    }
   ],
   "source": [
    "#same again UK and positions\n",
    "print(linked_in_jobs_df[['search_country', 'search_position']])"
   ]
  },
  {
   "cell_type": "code",
   "execution_count": 168,
   "id": "0f808c1c-359c-409c-a7f4-9c0802c687b7",
   "metadata": {},
   "outputs": [
    {
     "name": "stdout",
     "output_type": "stream",
     "text": [
      "                                       search_country  \\\n",
      "0                           United KingdomColor Maker   \n",
      "1              United KingdomDirector Nursing Service   \n",
      "2                              United KingdomStand-In   \n",
      "3                     United KingdomReal-Estate Clerk   \n",
      "4   United KingdomSupervisor Travel-Information Ce...   \n",
      "5                   United KingdomResidence Counselor   \n",
      "6                    United KingdomNurse Practitioner   \n",
      "7                United KingdomHuman Resource Advisor   \n",
      "8                                United KingdomDouble   \n",
      "9                   United KingdomProgram Coordinator   \n",
      "10                        United KingdomSpecial Agent   \n",
      "11                               United KingdomVendor   \n",
      "12               United KingdomPsychiatric Technician   \n",
      "13                   United KingdomSolutions Operator   \n",
      "14     United KingdomCirculation-Sales Representative   \n",
      "15                        United KingdomChange Person   \n",
      "16                             United KingdomStand-In   \n",
      "17                     United KingdomManager Benefits   \n",
      "18                   United KingdomBooking Supervisor   \n",
      "19            United KingdomQuality Assurance Analyst   \n",
      "20                              United KingdomCharter   \n",
      "21                               United KingdomDouble   \n",
      "22             United KingdomDirector Nursing Service   \n",
      "23                            United KingdomSous Chef   \n",
      "24                            United KingdomConductor   \n",
      "25                             United KingdomCostumer   \n",
      "26                      United KingdomExhibit Builder   \n",
      "27        United KingdomNuclear Medicine Technologist   \n",
      "28                                United KingdomRiver   \n",
      "29               United KingdomOccupational Therapist   \n",
      "30                       United KingdomSafety Manager   \n",
      "31                                 United KingdomChef   \n",
      "32                         United KingdomNurse School   \n",
      "33           United KingdomSpecial Effects Specialist   \n",
      "34                   United KingdomResearch Associate   \n",
      "35                            United KingdomCounselor   \n",
      "36                        United KingdomChange Person   \n",
      "37                  United KingdomPressure Supervisor   \n",
      "38             United KingdomManager Records Analysis   \n",
      "39                     United KingdomManager Benefits   \n",
      "40     United KingdomCost-And-Sales-Record Supervisor   \n",
      "41                United KingdomContainer Coordinator   \n",
      "42                               United KingdomBarber   \n",
      "43                           United KingdomNurse Head   \n",
      "44    United KingdomCentral-Office Equipment Engineer   \n",
      "45                            United KingdomTax Clerk   \n",
      "46                   United KingdomSupervisor Mapping   \n",
      "47                         United KingdomCardiologist   \n",
      "48           United KingdomSupervisor Line Department   \n",
      "49                   United KingdomManager Employment   \n",
      "\n",
      "                         search_position  \n",
      "0                            Color Maker  \n",
      "1               Director Nursing Service  \n",
      "2                               Stand-In  \n",
      "3                      Real-Estate Clerk  \n",
      "4   Supervisor Travel-Information Center  \n",
      "5                    Residence Counselor  \n",
      "6                     Nurse Practitioner  \n",
      "7                 Human Resource Advisor  \n",
      "8                                 Double  \n",
      "9                    Program Coordinator  \n",
      "10                         Special Agent  \n",
      "11                                Vendor  \n",
      "12                Psychiatric Technician  \n",
      "13                    Solutions Operator  \n",
      "14      Circulation-Sales Representative  \n",
      "15                         Change Person  \n",
      "16                              Stand-In  \n",
      "17                      Manager Benefits  \n",
      "18                    Booking Supervisor  \n",
      "19             Quality Assurance Analyst  \n",
      "20                               Charter  \n",
      "21                                Double  \n",
      "22              Director Nursing Service  \n",
      "23                             Sous Chef  \n",
      "24                             Conductor  \n",
      "25                              Costumer  \n",
      "26                       Exhibit Builder  \n",
      "27         Nuclear Medicine Technologist  \n",
      "28                                 River  \n",
      "29                Occupational Therapist  \n",
      "30                        Safety Manager  \n",
      "31                                  Chef  \n",
      "32                          Nurse School  \n",
      "33            Special Effects Specialist  \n",
      "34                    Research Associate  \n",
      "35                             Counselor  \n",
      "36                         Change Person  \n",
      "37                   Pressure Supervisor  \n",
      "38              Manager Records Analysis  \n",
      "39                      Manager Benefits  \n",
      "40      Cost-And-Sales-Record Supervisor  \n",
      "41                 Container Coordinator  \n",
      "42                                Barber  \n",
      "43                            Nurse Head  \n",
      "44     Central-Office Equipment Engineer  \n",
      "45                             Tax Clerk  \n",
      "46                    Supervisor Mapping  \n",
      "47                          Cardiologist  \n",
      "48            Supervisor Line Department  \n",
      "49                    Manager Employment  \n"
     ]
    }
   ],
   "source": [
    "#List of 50 postions in UK\n",
    "print(linked_in_jobs_df[['search_country', 'search_position']].head(50))"
   ]
  },
  {
   "cell_type": "code",
   "execution_count": 132,
   "id": "28f40e24-4dd6-4d0c-9213-ce7d67c057ea",
   "metadata": {},
   "outputs": [
    {
     "name": "stdout",
     "output_type": "stream",
     "text": [
      "                         search_country  \\\n",
      "385466  United KingdomAccount Executive   \n",
      "632518  United KingdomAccount Executive   \n",
      "632612  United KingdomAccount Executive   \n",
      "632611  United KingdomAccount Executive   \n",
      "632606  United KingdomAccount Executive   \n",
      "632605  United KingdomAccount Executive   \n",
      "632603  United KingdomAccount Executive   \n",
      "632602  United KingdomAccount Executive   \n",
      "632540  United KingdomAccount Executive   \n",
      "24617   United KingdomAccount Executive   \n",
      "442626  United KingdomAccount Executive   \n",
      "632520  United KingdomAccount Executive   \n",
      "632519  United KingdomAccount Executive   \n",
      "24612   United KingdomAccount Executive   \n",
      "24610   United KingdomAccount Executive   \n",
      "442726  United KingdomAccount Executive   \n",
      "632517  United KingdomAccount Executive   \n",
      "632516  United KingdomAccount Executive   \n",
      "632514  United KingdomAccount Executive   \n",
      "24606   United KingdomAccount Executive   \n",
      "632513  United KingdomAccount Executive   \n",
      "632512  United KingdomAccount Executive   \n",
      "632511  United KingdomAccount Executive   \n",
      "632510  United KingdomAccount Executive   \n",
      "632509  United KingdomAccount Executive   \n",
      "442627  United KingdomAccount Executive   \n",
      "632508  United KingdomAccount Executive   \n",
      "632495  United KingdomAccount Executive   \n",
      "632613  United KingdomAccount Executive   \n",
      "632614  United KingdomAccount Executive   \n",
      "632615  United KingdomAccount Executive   \n",
      "632626  United KingdomAccount Executive   \n",
      "24667   United KingdomAccount Executive   \n",
      "632805  United KingdomAccount Executive   \n",
      "632804  United KingdomAccount Executive   \n",
      "632803  United KingdomAccount Executive   \n",
      "632735  United KingdomAccount Executive   \n",
      "632734  United KingdomAccount Executive   \n",
      "632733  United KingdomAccount Executive   \n",
      "24659   United KingdomAccount Executive   \n",
      "632722  United KingdomAccount Executive   \n",
      "24657   United KingdomAccount Executive   \n",
      "632721  United KingdomAccount Executive   \n",
      "632663  United KingdomAccount Executive   \n",
      "632662  United KingdomAccount Executive   \n",
      "632661  United KingdomAccount Executive   \n",
      "632660  United KingdomAccount Executive   \n",
      "632648  United KingdomAccount Executive   \n",
      "632647  United KingdomAccount Executive   \n",
      "632646  United KingdomAccount Executive   \n",
      "\n",
      "                                                job_title  \n",
      "385466                  Account Executive, K-12 Education  \n",
      "632518                             Account Manager Relief  \n",
      "632612                  Account Manager- Commercial Lines  \n",
      "632611                    Outside Sales Account Executive  \n",
      "632606     Field Sales Account Executive (Luxury Manager)  \n",
      "632605                         Commercial Account Manager  \n",
      "632603                                  Account Executive  \n",
      "632602               Account Executive, Industrial Supply  \n",
      "632540                               Saas Account Manager  \n",
      "24617                             Sales Account Executive  \n",
      "442626                         Key Account Representative  \n",
      "632520               Commercial Landscape Account Manager  \n",
      "632519                         Regional Account Executive  \n",
      "24612                                   Account Executive  \n",
      "24610                                   Account Executive  \n",
      "442726                         Business Account Executive  \n",
      "632517    Amazon- Junior Account Manager - Virtual/Remote  \n",
      "632516                         Commercial Account Manager  \n",
      "632514                                  Account Executive  \n",
      "24606                            Senior Account Executive  \n",
      "632513               Field Account Executive, AL (Remote)  \n",
      "632512                            Account Executive Miami  \n",
      "632511      Manager, Major Account Sales, Corporate (BMG)  \n",
      "632510  Client Relationship Manager - Automotive - Det...  \n",
      "632509           Clinical Account Executive - Pulmonology  \n",
      "442627                          Digital Account Executive  \n",
      "632508          Commercial & Multi-Family Account Manager  \n",
      "632495  Inside Sales Account Manager - B2B Financial S...  \n",
      "632613                                    Sales Executive  \n",
      "632614                                Key Account Manager  \n",
      "632615                     Personal Lines Account Manager  \n",
      "632626          Personal/Commercial Lines Account Manager  \n",
      "24667                                   Account Executive  \n",
      "632805                        Technical Account Executive  \n",
      "632804  Commercial Insurance Assistant / CSR - REMOTE/...  \n",
      "632803         Strategic Digital Native Account Executive  \n",
      "632735  Outside Sales Account Executive, Direct Sales ...  \n",
      "632734                          Canvass Supervisor- 100k+  \n",
      "632733         Commercial Development Account Executive 1  \n",
      "24659                                   Account Executive  \n",
      "632722                    Account Executive (Food Broker)  \n",
      "24657                               H&B Senior Consultant  \n",
      "632721                  Account Executive, SMB Team Sales  \n",
      "632663            Account Executive, Industrial Equipment  \n",
      "632662                       Healthcare Account Executive  \n",
      "632661                       Inside Sales Account Manager  \n",
      "632660                                  Account Executive  \n",
      "632648                             Account Manager (HVAC)  \n",
      "632647                   Account Manager (Transportation)  \n",
      "632646  Account Manager Relief - Quarterly Bonus Poten...  \n"
     ]
    }
   ],
   "source": [
    "#Account Executive in top 50\n",
    "print(linked_in_jobs_df[['search_country', 'job_title']].head(50))"
   ]
  },
  {
   "cell_type": "code",
   "execution_count": 246,
   "id": "97a2c65a-c9c7-4c2f-80f5-94fc5848b978",
   "metadata": {},
   "outputs": [],
   "source": [
    "#New column is created postions count which holds the number of the same job titles in rows\n",
    "linked_in_jobs_df['position_count'] = linked_in_jobs_df.groupby('job_title')['job_title'].transform('count')"
   ]
  },
  {
   "cell_type": "code",
   "execution_count": 250,
   "id": "784bb5d5-2582-4f26-8243-36bd81fc867a",
   "metadata": {},
   "outputs": [],
   "source": [
    "#New data fram with just the 2 columns\n",
    "sorted_UK_jobs = linked_in_jobs_df[['job_title', 'position_count']].head(20)"
   ]
  },
  {
   "cell_type": "code",
   "execution_count": 252,
   "id": "6e03802d-aac3-4a0d-885b-0cedf1788d2f",
   "metadata": {},
   "outputs": [
    {
     "name": "stdout",
     "output_type": "stream",
     "text": [
      "                                            job_title  position_count\n",
      "14                            LEAD SALES ASSOCIATE-PT            4924\n",
      "8                                       Store Manager            4791\n",
      "6                               Registered Nurse (RN)            1408\n",
      "17                         Human Resources Generalist             721\n",
      "3                       Independent Real Estate Agent             109\n",
      "10                Special Agent: Law/Legal Background              23\n",
      "4   Group/Unit Supervisor (Systems Support Manager...              15\n",
      "9                     Engineering Project Coordinator               7\n",
      "16            Senior Associate, Tax - Product Analyst               6\n",
      "1                  Registered Nurse - RN Care Manager               6\n",
      "13               Control Systems Integration Engineer               2\n",
      "18                        Supervisor - Horticulturist               2\n",
      "19  Analyst, Associate Plan Configuration & Qualit...               2\n",
      "12  Assistant Vice President Behavioral Health Sci...               1\n",
      "11                           Manager, Site Operations               1\n",
      "15                      Entry-Level Financial Advisor               1\n",
      "7                            Part Time- HR Generalist               1\n",
      "5                                  Counselor-07532802               1\n",
      "2                RESTAURANT SUPERVISOR - THE FORKLIFT               1\n",
      "0   Account Executive - Dispensing (NorCal/Norther...               1\n"
     ]
    }
   ],
   "source": [
    "#Sort the sorted_UK_jobs DataFrame by the 'position_count' column, from the highest to the lowest.\n",
    "print(sorted_UK_jobs.sort_values(by='position_count', ascending=False))"
   ]
  },
  {
   "cell_type": "code",
   "execution_count": 256,
   "id": "da57f6aa-c2d3-4f9b-be1e-4702bff31bdf",
   "metadata": {},
   "outputs": [],
   "source": [
    "#Next 3 lines is the same as the above except but using the serch position column and not the job title\n",
    "linked_in_jobs_df['position_count'] = linked_in_jobs_df.groupby('search_position')['search_position'].transform('count')"
   ]
  },
  {
   "cell_type": "code",
   "execution_count": 258,
   "id": "aed817d9-dd9c-4737-8587-90efdbfcdc20",
   "metadata": {},
   "outputs": [],
   "source": [
    "sorted_UK_jobs = linked_in_jobs_df[['search_position', 'position_count']].head(20)"
   ]
  },
  {
   "cell_type": "code",
   "execution_count": 260,
   "id": "79812fbe-7839-4920-9c13-addde994a965",
   "metadata": {},
   "outputs": [
    {
     "name": "stdout",
     "output_type": "stream",
     "text": [
      "                         search_position  position_count\n",
      "15                         Change Person           12025\n",
      "14      Circulation-Sales Representative           10978\n",
      "6                     Nurse Practitioner            8287\n",
      "17                      Manager Benefits            7966\n",
      "1               Director Nursing Service            5314\n",
      "16                              Stand-In            3848\n",
      "2                               Stand-In            3848\n",
      "11                                Vendor            3772\n",
      "9                    Program Coordinator            2941\n",
      "19             Quality Assurance Analyst            1900\n",
      "12                Psychiatric Technician            1613\n",
      "8                                 Double            1493\n",
      "13                    Solutions Operator             965\n",
      "3                      Real-Estate Clerk             800\n",
      "5                    Residence Counselor             721\n",
      "7                 Human Resource Advisor             686\n",
      "0                            Color Maker             659\n",
      "4   Supervisor Travel-Information Center             603\n",
      "10                         Special Agent             159\n",
      "18                    Booking Supervisor             103\n"
     ]
    }
   ],
   "source": [
    "print(sorted_UK_jobs.sort_values(by='position_count', ascending=False))"
   ]
  },
  {
   "cell_type": "code",
   "execution_count": null,
   "id": "d60327f9-227d-4bc5-9147-ca390864d581",
   "metadata": {},
   "outputs": [],
   "source": [
    "#could do with feeback from the Teacher on all the home works completed."
   ]
  }
 ],
 "metadata": {
  "kernelspec": {
   "display_name": "Python 3 (ipykernel)",
   "language": "python",
   "name": "python3"
  },
  "language_info": {
   "codemirror_mode": {
    "name": "ipython",
    "version": 3
   },
   "file_extension": ".py",
   "mimetype": "text/x-python",
   "name": "python",
   "nbconvert_exporter": "python",
   "pygments_lexer": "ipython3",
   "version": "3.12.7"
  }
 },
 "nbformat": 4,
 "nbformat_minor": 5
}
